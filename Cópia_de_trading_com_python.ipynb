{
  "cells": [
    {
      "cell_type": "markdown",
      "metadata": {
        "id": "view-in-github",
        "colab_type": "text"
      },
      "source": [
        "<a href=\"https://colab.research.google.com/github/rondinell/rondinelli/blob/main/C%C3%B3pia_de_trading_com_python.ipynb\" target=\"_parent\"><img src=\"https://colab.research.google.com/assets/colab-badge.svg\" alt=\"Open In Colab\"/></a>"
      ]
    },
    {
      "cell_type": "markdown",
      "id": "35e113f3",
      "metadata": {
        "id": "35e113f3"
      },
      "source": [
        "# Como criar uma estratégia de trading com Python\n",
        "\n",
        "### Indicador usado: RSI\n",
        "\n",
        "### Estratégia:\n",
        "\n",
        "Vamos comprar a ação sempre que o RSI for menor do que 30.\n",
        "\n",
        "Será que dá dinheiro?"
      ]
    },
    {
      "cell_type": "markdown",
      "id": "8cddce2d",
      "metadata": {
        "id": "8cddce2d"
      },
      "source": [
        "# Passo a Passo:\n",
        "\n",
        "\n",
        "* Passo 1: Escolher um ativo.\n",
        "* Passo 2: Puxar os dados de cotações no Yahoo finance.\n",
        "* Passo 3: Calcular os retornos positivos e negativos.\n",
        "* Passo 4: Separar os retornos positivos dos negativos.\n",
        "* Passo 5: Calcular a média dos retornos positivos e negativos nos últimos 22 dias\n",
        "* Passo 6: Calcular o RSI\n",
        "* Passo 7: Gerar os sinais de compra ou venda\n",
        "* Passo 8: Observando pontos de compra ao longo do tempo\n",
        "* Passo 9: Calculando lucros\n",
        "* Passo 10: Analisando lucros\n",
        "<br>\n",
        "\n",
        "    * Qual a média de lucros?\n",
        "    * Qual a média de perdas?\n",
        "    * Qual a % de operações vencedoras?\n",
        "    * Qual expectativa matemática do modelo?\n",
        "    * Qual retorno acumulado?\n",
        "    * O retorno acumulado venceu o Buy and Hold na ação?\n",
        "\n",
        "\n",
        "### Fórmula RSI:\n",
        "\n",
        "$100 - 100/(1 + mediaRetornosPositivos / mediaRetornosNegativos)$"
      ]
    },
    {
      "cell_type": "code",
      "execution_count": 267,
      "id": "5841ef62",
      "metadata": {
        "id": "5841ef62"
      },
      "outputs": [],
      "source": [
        "import pandas as pd\n",
        "import yfinance as yf\n",
        "import matplotlib.pyplot as plt\n",
        "import numpy as np\n",
        "\n",
        "pd.options.mode.chained_assignment = None"
      ]
    },
    {
      "cell_type": "markdown",
      "id": "363f4f13",
      "metadata": {
        "id": "363f4f13"
      },
      "source": [
        "# Passo 1: Escolher um ativo"
      ]
    },
    {
      "cell_type": "code",
      "execution_count": 268,
      "id": "88909c8f",
      "metadata": {
        "id": "88909c8f"
      },
      "outputs": [],
      "source": [
        "ativo = ['PETR4.SA']"
      ]
    },
    {
      "cell_type": "markdown",
      "id": "612a8d98",
      "metadata": {
        "id": "612a8d98"
      },
      "source": [
        "# Passo 2: Puxar os dados do Yahoo Finance"
      ]
    },
    {
      "cell_type": "code",
      "execution_count": 269,
      "id": "7bca4b88",
      "metadata": {
        "id": "7bca4b88",
        "outputId": "1f553350-2c16-4246-a1fe-c6719927a1ea",
        "colab": {
          "base_uri": "https://localhost:8080/",
          "height": 501
        }
      },
      "outputs": [
        {
          "output_type": "stream",
          "name": "stderr",
          "text": [
            "\r[*********************100%***********************]  1 of 1 completed\n"
          ]
        },
        {
          "output_type": "execute_result",
          "data": {
            "text/plain": [
              "Price           Close       High        Low       Open       Volume\n",
              "Ticker       PETR4.SA   PETR4.SA   PETR4.SA   PETR4.SA     PETR4.SA\n",
              "Date                                                               \n",
              "2000-01-03   1.283870   1.283870   1.283870   1.283870  35389440000\n",
              "2000-01-04   1.212848   1.212848   1.212848   1.212848  28861440000\n",
              "2000-01-05   1.200610   1.200610   1.200610   1.200610  43033600000\n",
              "2000-01-06   1.196458   1.196458   1.196458   1.196458  34055680000\n",
              "2000-01-07   1.201921   1.201921   1.201921   1.201921  20912640000\n",
              "...               ...        ...        ...        ...          ...\n",
              "2025-03-24  36.750000  36.939999  36.500000  36.700001     20348000\n",
              "2025-03-25  37.040001  37.520000  36.630001  36.849998     28036100\n",
              "2025-03-26  37.389999  37.630001  37.150002  37.150002     26870300\n",
              "2025-03-27  37.669998  37.970001  37.389999  37.430000     28444400\n",
              "2025-03-28  37.430000  37.880001  37.090000  37.650002     22057700\n",
              "\n",
              "[6337 rows x 5 columns]"
            ],
            "text/html": [
              "\n",
              "  <div id=\"df-e0b2e945-a989-44c5-bce3-3ed3ebf3eea0\" class=\"colab-df-container\">\n",
              "    <div>\n",
              "<style scoped>\n",
              "    .dataframe tbody tr th:only-of-type {\n",
              "        vertical-align: middle;\n",
              "    }\n",
              "\n",
              "    .dataframe tbody tr th {\n",
              "        vertical-align: top;\n",
              "    }\n",
              "\n",
              "    .dataframe thead tr th {\n",
              "        text-align: left;\n",
              "    }\n",
              "\n",
              "    .dataframe thead tr:last-of-type th {\n",
              "        text-align: right;\n",
              "    }\n",
              "</style>\n",
              "<table border=\"1\" class=\"dataframe\">\n",
              "  <thead>\n",
              "    <tr>\n",
              "      <th>Price</th>\n",
              "      <th>Close</th>\n",
              "      <th>High</th>\n",
              "      <th>Low</th>\n",
              "      <th>Open</th>\n",
              "      <th>Volume</th>\n",
              "    </tr>\n",
              "    <tr>\n",
              "      <th>Ticker</th>\n",
              "      <th>PETR4.SA</th>\n",
              "      <th>PETR4.SA</th>\n",
              "      <th>PETR4.SA</th>\n",
              "      <th>PETR4.SA</th>\n",
              "      <th>PETR4.SA</th>\n",
              "    </tr>\n",
              "    <tr>\n",
              "      <th>Date</th>\n",
              "      <th></th>\n",
              "      <th></th>\n",
              "      <th></th>\n",
              "      <th></th>\n",
              "      <th></th>\n",
              "    </tr>\n",
              "  </thead>\n",
              "  <tbody>\n",
              "    <tr>\n",
              "      <th>2000-01-03</th>\n",
              "      <td>1.283870</td>\n",
              "      <td>1.283870</td>\n",
              "      <td>1.283870</td>\n",
              "      <td>1.283870</td>\n",
              "      <td>35389440000</td>\n",
              "    </tr>\n",
              "    <tr>\n",
              "      <th>2000-01-04</th>\n",
              "      <td>1.212848</td>\n",
              "      <td>1.212848</td>\n",
              "      <td>1.212848</td>\n",
              "      <td>1.212848</td>\n",
              "      <td>28861440000</td>\n",
              "    </tr>\n",
              "    <tr>\n",
              "      <th>2000-01-05</th>\n",
              "      <td>1.200610</td>\n",
              "      <td>1.200610</td>\n",
              "      <td>1.200610</td>\n",
              "      <td>1.200610</td>\n",
              "      <td>43033600000</td>\n",
              "    </tr>\n",
              "    <tr>\n",
              "      <th>2000-01-06</th>\n",
              "      <td>1.196458</td>\n",
              "      <td>1.196458</td>\n",
              "      <td>1.196458</td>\n",
              "      <td>1.196458</td>\n",
              "      <td>34055680000</td>\n",
              "    </tr>\n",
              "    <tr>\n",
              "      <th>2000-01-07</th>\n",
              "      <td>1.201921</td>\n",
              "      <td>1.201921</td>\n",
              "      <td>1.201921</td>\n",
              "      <td>1.201921</td>\n",
              "      <td>20912640000</td>\n",
              "    </tr>\n",
              "    <tr>\n",
              "      <th>...</th>\n",
              "      <td>...</td>\n",
              "      <td>...</td>\n",
              "      <td>...</td>\n",
              "      <td>...</td>\n",
              "      <td>...</td>\n",
              "    </tr>\n",
              "    <tr>\n",
              "      <th>2025-03-24</th>\n",
              "      <td>36.750000</td>\n",
              "      <td>36.939999</td>\n",
              "      <td>36.500000</td>\n",
              "      <td>36.700001</td>\n",
              "      <td>20348000</td>\n",
              "    </tr>\n",
              "    <tr>\n",
              "      <th>2025-03-25</th>\n",
              "      <td>37.040001</td>\n",
              "      <td>37.520000</td>\n",
              "      <td>36.630001</td>\n",
              "      <td>36.849998</td>\n",
              "      <td>28036100</td>\n",
              "    </tr>\n",
              "    <tr>\n",
              "      <th>2025-03-26</th>\n",
              "      <td>37.389999</td>\n",
              "      <td>37.630001</td>\n",
              "      <td>37.150002</td>\n",
              "      <td>37.150002</td>\n",
              "      <td>26870300</td>\n",
              "    </tr>\n",
              "    <tr>\n",
              "      <th>2025-03-27</th>\n",
              "      <td>37.669998</td>\n",
              "      <td>37.970001</td>\n",
              "      <td>37.389999</td>\n",
              "      <td>37.430000</td>\n",
              "      <td>28444400</td>\n",
              "    </tr>\n",
              "    <tr>\n",
              "      <th>2025-03-28</th>\n",
              "      <td>37.430000</td>\n",
              "      <td>37.880001</td>\n",
              "      <td>37.090000</td>\n",
              "      <td>37.650002</td>\n",
              "      <td>22057700</td>\n",
              "    </tr>\n",
              "  </tbody>\n",
              "</table>\n",
              "<p>6337 rows × 5 columns</p>\n",
              "</div>\n",
              "    <div class=\"colab-df-buttons\">\n",
              "\n",
              "  <div class=\"colab-df-container\">\n",
              "    <button class=\"colab-df-convert\" onclick=\"convertToInteractive('df-e0b2e945-a989-44c5-bce3-3ed3ebf3eea0')\"\n",
              "            title=\"Convert this dataframe to an interactive table.\"\n",
              "            style=\"display:none;\">\n",
              "\n",
              "  <svg xmlns=\"http://www.w3.org/2000/svg\" height=\"24px\" viewBox=\"0 -960 960 960\">\n",
              "    <path d=\"M120-120v-720h720v720H120Zm60-500h600v-160H180v160Zm220 220h160v-160H400v160Zm0 220h160v-160H400v160ZM180-400h160v-160H180v160Zm440 0h160v-160H620v160ZM180-180h160v-160H180v160Zm440 0h160v-160H620v160Z\"/>\n",
              "  </svg>\n",
              "    </button>\n",
              "\n",
              "  <style>\n",
              "    .colab-df-container {\n",
              "      display:flex;\n",
              "      gap: 12px;\n",
              "    }\n",
              "\n",
              "    .colab-df-convert {\n",
              "      background-color: #E8F0FE;\n",
              "      border: none;\n",
              "      border-radius: 50%;\n",
              "      cursor: pointer;\n",
              "      display: none;\n",
              "      fill: #1967D2;\n",
              "      height: 32px;\n",
              "      padding: 0 0 0 0;\n",
              "      width: 32px;\n",
              "    }\n",
              "\n",
              "    .colab-df-convert:hover {\n",
              "      background-color: #E2EBFA;\n",
              "      box-shadow: 0px 1px 2px rgba(60, 64, 67, 0.3), 0px 1px 3px 1px rgba(60, 64, 67, 0.15);\n",
              "      fill: #174EA6;\n",
              "    }\n",
              "\n",
              "    .colab-df-buttons div {\n",
              "      margin-bottom: 4px;\n",
              "    }\n",
              "\n",
              "    [theme=dark] .colab-df-convert {\n",
              "      background-color: #3B4455;\n",
              "      fill: #D2E3FC;\n",
              "    }\n",
              "\n",
              "    [theme=dark] .colab-df-convert:hover {\n",
              "      background-color: #434B5C;\n",
              "      box-shadow: 0px 1px 3px 1px rgba(0, 0, 0, 0.15);\n",
              "      filter: drop-shadow(0px 1px 2px rgba(0, 0, 0, 0.3));\n",
              "      fill: #FFFFFF;\n",
              "    }\n",
              "  </style>\n",
              "\n",
              "    <script>\n",
              "      const buttonEl =\n",
              "        document.querySelector('#df-e0b2e945-a989-44c5-bce3-3ed3ebf3eea0 button.colab-df-convert');\n",
              "      buttonEl.style.display =\n",
              "        google.colab.kernel.accessAllowed ? 'block' : 'none';\n",
              "\n",
              "      async function convertToInteractive(key) {\n",
              "        const element = document.querySelector('#df-e0b2e945-a989-44c5-bce3-3ed3ebf3eea0');\n",
              "        const dataTable =\n",
              "          await google.colab.kernel.invokeFunction('convertToInteractive',\n",
              "                                                    [key], {});\n",
              "        if (!dataTable) return;\n",
              "\n",
              "        const docLinkHtml = 'Like what you see? Visit the ' +\n",
              "          '<a target=\"_blank\" href=https://colab.research.google.com/notebooks/data_table.ipynb>data table notebook</a>'\n",
              "          + ' to learn more about interactive tables.';\n",
              "        element.innerHTML = '';\n",
              "        dataTable['output_type'] = 'display_data';\n",
              "        await google.colab.output.renderOutput(dataTable, element);\n",
              "        const docLink = document.createElement('div');\n",
              "        docLink.innerHTML = docLinkHtml;\n",
              "        element.appendChild(docLink);\n",
              "      }\n",
              "    </script>\n",
              "  </div>\n",
              "\n",
              "\n",
              "<div id=\"df-09c811ec-ecd0-4db1-9a1a-6fad9757a426\">\n",
              "  <button class=\"colab-df-quickchart\" onclick=\"quickchart('df-09c811ec-ecd0-4db1-9a1a-6fad9757a426')\"\n",
              "            title=\"Suggest charts\"\n",
              "            style=\"display:none;\">\n",
              "\n",
              "<svg xmlns=\"http://www.w3.org/2000/svg\" height=\"24px\"viewBox=\"0 0 24 24\"\n",
              "     width=\"24px\">\n",
              "    <g>\n",
              "        <path d=\"M19 3H5c-1.1 0-2 .9-2 2v14c0 1.1.9 2 2 2h14c1.1 0 2-.9 2-2V5c0-1.1-.9-2-2-2zM9 17H7v-7h2v7zm4 0h-2V7h2v10zm4 0h-2v-4h2v4z\"/>\n",
              "    </g>\n",
              "</svg>\n",
              "  </button>\n",
              "\n",
              "<style>\n",
              "  .colab-df-quickchart {\n",
              "      --bg-color: #E8F0FE;\n",
              "      --fill-color: #1967D2;\n",
              "      --hover-bg-color: #E2EBFA;\n",
              "      --hover-fill-color: #174EA6;\n",
              "      --disabled-fill-color: #AAA;\n",
              "      --disabled-bg-color: #DDD;\n",
              "  }\n",
              "\n",
              "  [theme=dark] .colab-df-quickchart {\n",
              "      --bg-color: #3B4455;\n",
              "      --fill-color: #D2E3FC;\n",
              "      --hover-bg-color: #434B5C;\n",
              "      --hover-fill-color: #FFFFFF;\n",
              "      --disabled-bg-color: #3B4455;\n",
              "      --disabled-fill-color: #666;\n",
              "  }\n",
              "\n",
              "  .colab-df-quickchart {\n",
              "    background-color: var(--bg-color);\n",
              "    border: none;\n",
              "    border-radius: 50%;\n",
              "    cursor: pointer;\n",
              "    display: none;\n",
              "    fill: var(--fill-color);\n",
              "    height: 32px;\n",
              "    padding: 0;\n",
              "    width: 32px;\n",
              "  }\n",
              "\n",
              "  .colab-df-quickchart:hover {\n",
              "    background-color: var(--hover-bg-color);\n",
              "    box-shadow: 0 1px 2px rgba(60, 64, 67, 0.3), 0 1px 3px 1px rgba(60, 64, 67, 0.15);\n",
              "    fill: var(--button-hover-fill-color);\n",
              "  }\n",
              "\n",
              "  .colab-df-quickchart-complete:disabled,\n",
              "  .colab-df-quickchart-complete:disabled:hover {\n",
              "    background-color: var(--disabled-bg-color);\n",
              "    fill: var(--disabled-fill-color);\n",
              "    box-shadow: none;\n",
              "  }\n",
              "\n",
              "  .colab-df-spinner {\n",
              "    border: 2px solid var(--fill-color);\n",
              "    border-color: transparent;\n",
              "    border-bottom-color: var(--fill-color);\n",
              "    animation:\n",
              "      spin 1s steps(1) infinite;\n",
              "  }\n",
              "\n",
              "  @keyframes spin {\n",
              "    0% {\n",
              "      border-color: transparent;\n",
              "      border-bottom-color: var(--fill-color);\n",
              "      border-left-color: var(--fill-color);\n",
              "    }\n",
              "    20% {\n",
              "      border-color: transparent;\n",
              "      border-left-color: var(--fill-color);\n",
              "      border-top-color: var(--fill-color);\n",
              "    }\n",
              "    30% {\n",
              "      border-color: transparent;\n",
              "      border-left-color: var(--fill-color);\n",
              "      border-top-color: var(--fill-color);\n",
              "      border-right-color: var(--fill-color);\n",
              "    }\n",
              "    40% {\n",
              "      border-color: transparent;\n",
              "      border-right-color: var(--fill-color);\n",
              "      border-top-color: var(--fill-color);\n",
              "    }\n",
              "    60% {\n",
              "      border-color: transparent;\n",
              "      border-right-color: var(--fill-color);\n",
              "    }\n",
              "    80% {\n",
              "      border-color: transparent;\n",
              "      border-right-color: var(--fill-color);\n",
              "      border-bottom-color: var(--fill-color);\n",
              "    }\n",
              "    90% {\n",
              "      border-color: transparent;\n",
              "      border-bottom-color: var(--fill-color);\n",
              "    }\n",
              "  }\n",
              "</style>\n",
              "\n",
              "  <script>\n",
              "    async function quickchart(key) {\n",
              "      const quickchartButtonEl =\n",
              "        document.querySelector('#' + key + ' button');\n",
              "      quickchartButtonEl.disabled = true;  // To prevent multiple clicks.\n",
              "      quickchartButtonEl.classList.add('colab-df-spinner');\n",
              "      try {\n",
              "        const charts = await google.colab.kernel.invokeFunction(\n",
              "            'suggestCharts', [key], {});\n",
              "      } catch (error) {\n",
              "        console.error('Error during call to suggestCharts:', error);\n",
              "      }\n",
              "      quickchartButtonEl.classList.remove('colab-df-spinner');\n",
              "      quickchartButtonEl.classList.add('colab-df-quickchart-complete');\n",
              "    }\n",
              "    (() => {\n",
              "      let quickchartButtonEl =\n",
              "        document.querySelector('#df-09c811ec-ecd0-4db1-9a1a-6fad9757a426 button');\n",
              "      quickchartButtonEl.style.display =\n",
              "        google.colab.kernel.accessAllowed ? 'block' : 'none';\n",
              "    })();\n",
              "  </script>\n",
              "</div>\n",
              "\n",
              "  <div id=\"id_665d2fea-8b9f-4462-8135-8e8a472edf26\">\n",
              "    <style>\n",
              "      .colab-df-generate {\n",
              "        background-color: #E8F0FE;\n",
              "        border: none;\n",
              "        border-radius: 50%;\n",
              "        cursor: pointer;\n",
              "        display: none;\n",
              "        fill: #1967D2;\n",
              "        height: 32px;\n",
              "        padding: 0 0 0 0;\n",
              "        width: 32px;\n",
              "      }\n",
              "\n",
              "      .colab-df-generate:hover {\n",
              "        background-color: #E2EBFA;\n",
              "        box-shadow: 0px 1px 2px rgba(60, 64, 67, 0.3), 0px 1px 3px 1px rgba(60, 64, 67, 0.15);\n",
              "        fill: #174EA6;\n",
              "      }\n",
              "\n",
              "      [theme=dark] .colab-df-generate {\n",
              "        background-color: #3B4455;\n",
              "        fill: #D2E3FC;\n",
              "      }\n",
              "\n",
              "      [theme=dark] .colab-df-generate:hover {\n",
              "        background-color: #434B5C;\n",
              "        box-shadow: 0px 1px 3px 1px rgba(0, 0, 0, 0.15);\n",
              "        filter: drop-shadow(0px 1px 2px rgba(0, 0, 0, 0.3));\n",
              "        fill: #FFFFFF;\n",
              "      }\n",
              "    </style>\n",
              "    <button class=\"colab-df-generate\" onclick=\"generateWithVariable('dados_ativo')\"\n",
              "            title=\"Generate code using this dataframe.\"\n",
              "            style=\"display:none;\">\n",
              "\n",
              "  <svg xmlns=\"http://www.w3.org/2000/svg\" height=\"24px\"viewBox=\"0 0 24 24\"\n",
              "       width=\"24px\">\n",
              "    <path d=\"M7,19H8.4L18.45,9,17,7.55,7,17.6ZM5,21V16.75L18.45,3.32a2,2,0,0,1,2.83,0l1.4,1.43a1.91,1.91,0,0,1,.58,1.4,1.91,1.91,0,0,1-.58,1.4L9.25,21ZM18.45,9,17,7.55Zm-12,3A5.31,5.31,0,0,0,4.9,8.1,5.31,5.31,0,0,0,1,6.5,5.31,5.31,0,0,0,4.9,4.9,5.31,5.31,0,0,0,6.5,1,5.31,5.31,0,0,0,8.1,4.9,5.31,5.31,0,0,0,12,6.5,5.46,5.46,0,0,0,6.5,12Z\"/>\n",
              "  </svg>\n",
              "    </button>\n",
              "    <script>\n",
              "      (() => {\n",
              "      const buttonEl =\n",
              "        document.querySelector('#id_665d2fea-8b9f-4462-8135-8e8a472edf26 button.colab-df-generate');\n",
              "      buttonEl.style.display =\n",
              "        google.colab.kernel.accessAllowed ? 'block' : 'none';\n",
              "\n",
              "      buttonEl.onclick = () => {\n",
              "        google.colab.notebook.generateWithVariable('dados_ativo');\n",
              "      }\n",
              "      })();\n",
              "    </script>\n",
              "  </div>\n",
              "\n",
              "    </div>\n",
              "  </div>\n"
            ],
            "application/vnd.google.colaboratory.intrinsic+json": {
              "type": "dataframe",
              "variable_name": "dados_ativo",
              "summary": "{\n  \"name\": \"dados_ativo\",\n  \"rows\": 6337,\n  \"fields\": [\n    {\n      \"column\": [\n        \"Date\",\n        \"\"\n      ],\n      \"properties\": {\n        \"dtype\": \"date\",\n        \"min\": \"2000-01-03 00:00:00\",\n        \"max\": \"2025-03-28 00:00:00\",\n        \"num_unique_values\": 6337,\n        \"samples\": [\n          \"2005-03-22 00:00:00\",\n          \"2008-02-08 00:00:00\",\n          \"2010-09-01 00:00:00\"\n        ],\n        \"semantic_type\": \"\",\n        \"description\": \"\"\n      }\n    },\n    {\n      \"column\": [\n        \"Close\",\n        \"PETR4.SA\"\n      ],\n      \"properties\": {\n        \"dtype\": \"number\",\n        \"std\": 7.663888093018848,\n        \"min\": 0.9560735821723938,\n        \"max\": 38.5,\n        \"num_unique_values\": 5081,\n        \"samples\": [\n          33.21875762939453,\n          2.877700090408325,\n          8.135817527770996\n        ],\n        \"semantic_type\": \"\",\n        \"description\": \"\"\n      }\n    },\n    {\n      \"column\": [\n        \"High\",\n        \"PETR4.SA\"\n      ],\n      \"properties\": {\n        \"dtype\": \"number\",\n        \"std\": 7.743233997358776,\n        \"min\": 0.9721902552971641,\n        \"max\": 38.65999984741211,\n        \"num_unique_values\": 6134,\n        \"samples\": [\n          4.044255026560577,\n          2.778076386129696,\n          20.127896005714415\n        ],\n        \"semantic_type\": \"\",\n        \"description\": \"\"\n      }\n    },\n    {\n      \"column\": [\n        \"Low\",\n        \"PETR4.SA\"\n      ],\n      \"properties\": {\n        \"dtype\": \"number\",\n        \"std\": 7.581997168566152,\n        \"min\": 0.9396837583755533,\n        \"max\": 38.310001373291016,\n        \"num_unique_values\": 6150,\n        \"samples\": [\n          5.211049079895019,\n          35.810001373291016,\n          8.859294200523571\n        ],\n        \"semantic_type\": \"\",\n        \"description\": \"\"\n      }\n    },\n    {\n      \"column\": [\n        \"Open\",\n        \"PETR4.SA\"\n      ],\n      \"properties\": {\n        \"dtype\": \"number\",\n        \"std\": 7.661159463414131,\n        \"min\": 0.9615368806255575,\n        \"max\": 38.529998779296875,\n        \"num_unique_values\": 6159,\n        \"samples\": [\n          6.336059946269122,\n          33.75963679899196,\n          30.095854707731164\n        ],\n        \"semantic_type\": \"\",\n        \"description\": \"\"\n      }\n    },\n    {\n      \"column\": [\n        \"Volume\",\n        \"PETR4.SA\"\n      ],\n      \"properties\": {\n        \"dtype\": \"number\",\n        \"std\": 3758651723,\n        \"min\": 0,\n        \"max\": 73564160000,\n        \"num_unique_values\": 6099,\n        \"samples\": [\n          19839600,\n          76243900,\n          26467200\n        ],\n        \"semantic_type\": \"\",\n        \"description\": \"\"\n      }\n    }\n  ]\n}"
            }
          },
          "metadata": {},
          "execution_count": 269
        },
        {
          "output_type": "stream",
          "name": "stdout",
          "text": [
            "Error: Runtime no longer has a reference to this dataframe, please re-run this cell and try again.\n"
          ]
        }
      ],
      "source": [
        "dados_ativo = yf.download(ativo)\n",
        "\n",
        "dados_ativo\n",
        "\n",
        "#tome cuidado com ações muito antigas! As vezes vão ter os dados mas com volume zero.\n",
        "#Pegue um período que tenha volume"
      ]
    },
    {
      "cell_type": "code",
      "execution_count": 270,
      "id": "e2f889b1",
      "metadata": {
        "id": "e2f889b1",
        "outputId": "131ac5c9-e697-411e-d54f-25bd83ae1fc2",
        "colab": {
          "base_uri": "https://localhost:8080/",
          "height": 442
        }
      },
      "outputs": [
        {
          "output_type": "execute_result",
          "data": {
            "text/plain": [
              "<Axes: xlabel='Date'>"
            ]
          },
          "metadata": {},
          "execution_count": 270
        },
        {
          "output_type": "display_data",
          "data": {
            "text/plain": [
              "<Figure size 640x480 with 1 Axes>"
            ],
            "image/png": "[encoded data removed]"
          },
          "metadata": {}
        }
      ],
      "source": [
        "dados_ativo['Close'].plot()"
      ]
    },
    {
      "cell_type": "markdown",
      "id": "45730b55",
      "metadata": {
        "id": "45730b55"
      },
      "source": [
        "# Passo 3: Calcular os retornos"
      ]
    },
    {
      "cell_type": "code",
      "execution_count": 274,
      "id": "16e4a25d",
      "metadata": {
        "id": "16e4a25d"
      },
      "outputs": [],
      "source": [
        "for ticker in ativo:\n",
        "    dados_ativo[f'retornos_{ticker}'] = dados_ativo['Close'][ticker].pct_change().dropna()"
      ]
    },
    {
      "cell_type": "markdown",
      "id": "d9d5cf13",
      "metadata": {
        "id": "d9d5cf13"
      },
      "source": [
        "# Passo 4: Separar os retornos positivos dos negativos"
      ]
    },
    {
      "cell_type": "code",
      "execution_count": 275,
      "id": "de478199",
      "metadata": {
        "id": "de478199",
        "colab": {
          "base_uri": "https://localhost:8080/"
        },
        "outputId": "83a56ca6-bc7e-409b-ab10-3ded267160e6"
      },
      "outputs": [
        {
          "output_type": "execute_result",
          "data": {
            "text/plain": [
              "2"
            ]
          },
          "metadata": {},
          "execution_count": 275
        }
      ],
      "source": [
        "retorno = 2\n",
        "\n",
        "filtrando_retorno = lambda x: x if x > 0 else 0\n",
        "\n",
        "filtrando_retorno(retorno)"
      ]
    },
    {
      "cell_type": "markdown",
      "source": [
        "**Passo 5: Calcular a média dos retornos positivos e negativos nos últimos 22 dias **negrito**\n",
        "\n"
      ],
      "metadata": {
        "id": "V2b1zRpEzNQT"
      },
      "id": "V2b1zRpEzNQT"
    },
    {
      "cell_type": "code",
      "execution_count": 273,
      "id": "31ae06cb",
      "metadata": {
        "id": "31ae06cb"
      },
      "outputs": [],
      "source": [
        "for ticker in ativo:\n",
        "    dados_ativo[f'retornos_{ticker}'] = dados_ativo['Close'][ticker].pct_change().dropna()\n",
        "    # The following lines were incorrectly indented\n",
        "    dados_ativo[f'retornos_postivos'] = dados_ativo[f'retornos_{ticker}'].apply(lambda x: x if x > 0 else 0)\n",
        "    dados_ativo[f'retornos_negativos'] = dados_ativo[f'retornos_{ticker}'].apply(lambda x: abs(x) if x < 0 else 0)\n",
        "    dados_ativo[f'media_retornos_positivos_{ticker}'] = dados_ativo[f'retornos_postivos'].rolling(22).mean()  # Using a 22-day rolling average\n",
        "    dados_ativo[f'media_retornos_negativos_{ticker}'] = dados_ativo[f'retornos_negativos'].rolling(22).mean()  # Using a 22-day rolling average"
      ]
    },
    {
      "cell_type": "markdown",
      "id": "f79187e2",
      "metadata": {
        "id": "f79187e2"
      },
      "source": [
        "# Passo 6: Calcular o RSI\n",
        "\n",
        "### Fórmula RSI:\n",
        "\n",
        "$100 - 100/(1 + mediaRetornosPositivos / mediaRetornosNegativos)$"
      ]
    },
    {
      "cell_type": "code",
      "execution_count": 276,
      "id": "00e7ee3a",
      "metadata": {
        "id": "00e7ee3a"
      },
      "outputs": [],
      "source": [
        "dados_ativo[f'RSI_{ticker}'] = (100 - 100 / (1 + dados_ativo[f'media_retornos_positivos_{ticker}'] / dados_ativo[f'media_retornos_negativos_{ticker}']))"
      ]
    },
    {
      "cell_type": "markdown",
      "id": "8a4a3663",
      "metadata": {
        "id": "8a4a3663"
      },
      "source": [
        "# Passo 7: Sinais de compra ou venda"
      ]
    },
    {
      "cell_type": "code",
      "execution_count": 278,
      "id": "95b58a77",
      "metadata": {
        "id": "95b58a77"
      },
      "outputs": [],
      "source": [
        "dados_ativo.loc[dados_ativo[f'RSI_{ticker}'] < 30, 'compra'] = 'sim'  # Use f-string for RSI column\n",
        "dados_ativo.loc[dados_ativo[f'RSI_{ticker}'] > 30, 'compra'] = 'nao'  # Use f-string for RSI column"
      ]
    },
    {
      "cell_type": "markdown",
      "id": "1dc26117",
      "metadata": {
        "id": "1dc26117"
      },
      "source": [
        "# A gente vai ter 2 stops de venda:\n",
        "\n",
        "* RSI acima de 40\n",
        "* 10 dias de operação"
      ]
    },
    {
      "cell_type": "code",
      "execution_count": 279,
      "id": "69382ddb",
      "metadata": {
        "id": "69382ddb"
      },
      "outputs": [],
      "source": [
        "data_compra = []\n",
        "data_venda = []\n",
        "\n",
        "for i in range(len(dados_ativo) - 11):  # Subtracting 11 to avoid exceeding DataFrame bounds\n",
        "    # Check if 'compra' value is a string before using 'in' operator\n",
        "    if isinstance(dados_ativo['compra'].iloc[i], str) and \"sim\" in dados_ativo['compra'].iloc[i]:\n",
        "        data_compra.append(dados_ativo.iloc[i+1].name) # +1 porque a gente compra no preço de abertura do dia seguinte.\n",
        "\n",
        "        for j in range(1, 11):\n",
        "            # Accessing the correct RSI column using f-string\n",
        "            if dados_ativo[f'RSI_{ticker}'].iloc[i + j] > 70: #vendo se nos proximos 10 dias o RSI passa de 40\n",
        "                data_venda.append(dados_ativo.iloc[i + j + 1].name) #vende no dia seguinte q bater 40\n",
        "                break\n",
        "\n",
        "            elif j == 10:\n",
        "                data_venda.append(dados_ativo.iloc[i + j + 1].name)"
      ]
    },
    {
      "cell_type": "markdown",
      "id": "08fbd65c",
      "metadata": {
        "id": "08fbd65c"
      },
      "source": [
        "# Passo 8: Observando pontos de compra ao longo do tempo"
      ]
    },
    {
      "cell_type": "code",
      "execution_count": 280,
      "id": "ce70cc4c",
      "metadata": {
        "id": "ce70cc4c",
        "colab": {
          "base_uri": "https://localhost:8080/",
          "height": 505
        },
        "outputId": "62809a60-b1bb-4fdb-a07e-1e22ef310c94"
      },
      "outputs": [
        {
          "output_type": "execute_result",
          "data": {
            "text/plain": [
              "Text(0.5, 0, 'Data')"
            ]
          },
          "metadata": {},
          "execution_count": 280
        },
        {
          "output_type": "display_data",
          "data": {
            "text/plain": [
              "<Figure size 1200x500 with 1 Axes>"
            ],
            "image/png": "[encoded data removed]"
          },
          "metadata": {}
        }
      ],
      "source": [
        "data_compra = dados_ativo.index[dados_ativo['compra'] == 'sim']\n",
        "\n",
        "# Plotting the data\n",
        "plt.figure(figsize=(12, 5))\n",
        "plt.scatter(\n",
        "    data_compra,\n",
        "    dados_ativo.loc[data_compra]['Close'][ticker],  # Access 'Close' values only for the current ticker\n",
        "    marker='^',\n",
        "    c='g',\n",
        ")\n",
        "plt.plot(dados_ativo.index, dados_ativo['Close'][ticker], alpha=0.7) # Plot 'Close' values for the current ticker\n",
        "plt.title(f'Pontos de Compra para {ticker}') # Add a title to the plot for clarity\n",
        "plt.xlabel('Data')"
      ]
    },
    {
      "cell_type": "markdown",
      "id": "12246a83",
      "metadata": {
        "id": "12246a83"
      },
      "source": [
        "# Passo 9: Calculando lucros"
      ]
    },
    {
      "cell_type": "code",
      "execution_count": 281,
      "id": "65b742cd",
      "metadata": {
        "id": "65b742cd",
        "colab": {
          "base_uri": "https://localhost:8080/"
        },
        "outputId": "5d3f0cd7-bc94-4f40-b72d-91d3438907f2"
      },
      "outputs": [
        {
          "output_type": "execute_result",
          "data": {
            "text/plain": [
              "array([[ 0.10346138],\n",
              "       [ 0.11470866],\n",
              "       [-0.03725445],\n",
              "       [-0.00688747],\n",
              "       [ 0.08695703],\n",
              "       [ 0.11856803],\n",
              "       [-0.10046011],\n",
              "       [-0.13056075],\n",
              "       [-0.097466  ],\n",
              "       [ 0.06054255],\n",
              "       [ 0.08315794],\n",
              "       [ 0.09788668],\n",
              "       [ 0.15239121],\n",
              "       [ 0.07991402],\n",
              "       [ 0.00483085],\n",
              "       [-0.01915711],\n",
              "       [ 0.02499977],\n",
              "       [-0.03504087],\n",
              "       [-0.04106775],\n",
              "       [ 0.00173119],\n",
              "       [ 0.06087937],\n",
              "       [ 0.03378066],\n",
              "       [ 0.08536579],\n",
              "       [ 0.06919371],\n",
              "       [ 0.04556942],\n",
              "       [ 0.12095936],\n",
              "       [ 0.17966555],\n",
              "       [ 0.16763433],\n",
              "       [ 0.23579538],\n",
              "       [ 0.13257029],\n",
              "       [-0.08496743],\n",
              "       [-0.02435748],\n",
              "       [-0.0505636 ],\n",
              "       [ 0.03488216],\n",
              "       [-0.06568599],\n",
              "       [-0.09241429],\n",
              "       [-0.06323544],\n",
              "       [-0.01052621],\n",
              "       [-0.00667018],\n",
              "       [-0.00072841],\n",
              "       [ 0.03089699],\n",
              "       [ 0.08799979],\n",
              "       [ 0.12971492],\n",
              "       [ 0.18493165],\n",
              "       [ 0.08558437],\n",
              "       [-0.06457137],\n",
              "       [-0.03634107],\n",
              "       [ 0.02756919],\n",
              "       [ 0.02261291],\n",
              "       [ 0.11825196],\n",
              "       [ 0.13778225],\n",
              "       [ 0.05354519],\n",
              "       [ 0.16155547],\n",
              "       [ 0.11763804],\n",
              "       [-0.13221155],\n",
              "       [-0.14865862],\n",
              "       [-0.10602654],\n",
              "       [-0.09186624],\n",
              "       [-0.06786692],\n",
              "       [-0.0047112 ],\n",
              "       [-0.05601332],\n",
              "       [-0.08134242],\n",
              "       [-0.02564114],\n",
              "       [-0.08867387],\n",
              "       [-0.08251759],\n",
              "       [-0.04550728],\n",
              "       [-0.00150174],\n",
              "       [ 0.04927029],\n",
              "       [ 0.16093695],\n",
              "       [ 0.05061553],\n",
              "       [ 0.10037952],\n",
              "       [ 0.10889721],\n",
              "       [ 0.01684382],\n",
              "       [ 0.07830203],\n",
              "       [ 0.05283027],\n",
              "       [ 0.07422358],\n",
              "       [-0.06497828],\n",
              "       [-0.07339787],\n",
              "       [-0.06666636],\n",
              "       [-0.08673983],\n",
              "       [-0.07968832],\n",
              "       [-0.14541632],\n",
              "       [-0.08727791],\n",
              "       [-0.07509566],\n",
              "       [ 0.05946853],\n",
              "       [ 0.09088009],\n",
              "       [ 0.09124046],\n",
              "       [ 0.1406849 ],\n",
              "       [ 0.09881567],\n",
              "       [ 0.04638621],\n",
              "       [-0.03587973],\n",
              "       [-0.01040687],\n",
              "       [-0.04883908],\n",
              "       [-0.027702  ],\n",
              "       [-0.02069932],\n",
              "       [-0.03441735],\n",
              "       [-0.04406363],\n",
              "       [-0.05251135],\n",
              "       [-0.04411962],\n",
              "       [ 0.00740781],\n",
              "       [-0.00830355],\n",
              "       [-0.01584469],\n",
              "       [-0.0113823 ],\n",
              "       [-0.0193815 ],\n",
              "       [-0.018408  ],\n",
              "       [ 0.04797996],\n",
              "       [ 0.01888656],\n",
              "       [-0.01736953],\n",
              "       [ 0.03500768],\n",
              "       [ 0.00842431],\n",
              "       [ 0.01570175],\n",
              "       [ 0.00580821],\n",
              "       [ 0.04271348],\n",
              "       [-0.03939529],\n",
              "       [-0.05455387],\n",
              "       [-0.05642925],\n",
              "       [-0.05469139],\n",
              "       [-0.048289  ],\n",
              "       [-0.07763549],\n",
              "       [-0.10086245],\n",
              "       [-0.09372991],\n",
              "       [-0.00890993],\n",
              "       [-0.02315799],\n",
              "       [-0.04681058],\n",
              "       [-0.03202815],\n",
              "       [-0.02263364],\n",
              "       [-0.02824836],\n",
              "       [-0.00212623],\n",
              "       [ 0.01330998],\n",
              "       [-0.04908015],\n",
              "       [-0.05464745],\n",
              "       [-0.06629564],\n",
              "       [-0.07251237],\n",
              "       [-0.04486083],\n",
              "       [ 0.01160218],\n",
              "       [ 0.07555807],\n",
              "       [ 0.04454646],\n",
              "       [ 0.10557219],\n",
              "       [ 0.12097704],\n",
              "       [ 0.13043457],\n",
              "       [ 0.15751841],\n",
              "       [ 0.14545376],\n",
              "       [ 0.12366238],\n",
              "       [-0.10005566],\n",
              "       [-0.0644968 ],\n",
              "       [-0.10218556],\n",
              "       [-0.0494678 ],\n",
              "       [-0.03602498],\n",
              "       [-0.02973975],\n",
              "       [-0.04747223],\n",
              "       [-0.04342537],\n",
              "       [-0.02691148],\n",
              "       [-0.00311496],\n",
              "       [ 0.05446189],\n",
              "       [-0.00807435],\n",
              "       [ 0.0379507 ],\n",
              "       [ 0.07697371],\n",
              "       [ 0.06982866],\n",
              "       [-0.05432255],\n",
              "       [-0.0863766 ],\n",
              "       [-0.05934213],\n",
              "       [-0.08396507],\n",
              "       [-0.07117629],\n",
              "       [-0.01142477],\n",
              "       [ 0.00068332],\n",
              "       [-0.0116519 ],\n",
              "       [-0.00142437],\n",
              "       [-0.00636022],\n",
              "       [ 0.22049685],\n",
              "       [ 0.07401127],\n",
              "       [ 0.11321835],\n",
              "       [-0.03722269],\n",
              "       [-0.13058655],\n",
              "       [-0.03100771],\n",
              "       [-0.06197388],\n",
              "       [ 0.00235072],\n",
              "       [-0.06197201],\n",
              "       [-0.10479906],\n",
              "       [ 0.01279065],\n",
              "       [-0.06889736],\n",
              "       [-0.06406396],\n",
              "       [ 0.05032779],\n",
              "       [ 0.08495973],\n",
              "       [ 0.00293539],\n",
              "       [-0.03539817],\n",
              "       [-0.0170683 ],\n",
              "       [ 0.22324145],\n",
              "       [-0.23692798],\n",
              "       [-0.17543836],\n",
              "       [-0.10734435],\n",
              "       [-0.14766342],\n",
              "       [-0.14836218],\n",
              "       [-0.09343913],\n",
              "       [ 0.05111168],\n",
              "       [-0.01601811],\n",
              "       [-0.11205077],\n",
              "       [ 0.03309704],\n",
              "       [ 0.08056876],\n",
              "       [-0.03640252],\n",
              "       [-0.01315814],\n",
              "       [-0.0525505 ],\n",
              "       [-0.0293187 ],\n",
              "       [-0.02384718],\n",
              "       [ 0.02145228],\n",
              "       [ 0.02761522],\n",
              "       [-0.02312093],\n",
              "       [ 0.04005154],\n",
              "       [ 0.08430612],\n",
              "       [ 0.09915191],\n",
              "       [ 0.13040554],\n",
              "       [ 0.20108262],\n",
              "       [ 0.21879384],\n",
              "       [ 0.17117078],\n",
              "       [ 0.02160881],\n",
              "       [ 0.02710366],\n",
              "       [ 0.03333344],\n",
              "       [ 0.09410291],\n",
              "       [-0.29421676],\n",
              "       [-0.29008036],\n",
              "       [-0.13772463],\n",
              "       [-0.02635456],\n",
              "       [ 0.0534471 ],\n",
              "       [-0.01102948],\n",
              "       [ 0.30619161],\n",
              "       [ 0.47244814],\n",
              "       [ 0.22425626],\n",
              "       [ 0.37159386],\n",
              "       [-0.00304121],\n",
              "       [ 0.05744986],\n",
              "       [ 0.05829599],\n",
              "       [ 0.14660238],\n",
              "       [-0.02982326],\n",
              "       [ 0.10173908],\n",
              "       [ 0.11086954],\n",
              "       [ 0.06249978],\n",
              "       [ 0.01319053],\n",
              "       [ 0.01902773],\n",
              "       [ 0.02803476],\n",
              "       [ 0.06289492],\n",
              "       [ 0.05715869],\n",
              "       [ 0.04609448],\n",
              "       [ 0.03202182],\n",
              "       [ 0.08356537],\n",
              "       [ 0.09481835],\n",
              "       [ 0.02996147],\n",
              "       [ 0.02903762],\n",
              "       [ 0.05766015],\n",
              "       [ 0.09042259],\n",
              "       [ 0.12353785],\n",
              "       [ 0.10960836],\n",
              "       [ 0.0405056 ]])"
            ]
          },
          "metadata": {},
          "execution_count": 281
        }
      ],
      "source": [
        "lucros = dados_ativo.loc[data_venda]['Open'].values/dados_ativo.loc[data_compra]['Open'].values - 1\n",
        "\n",
        "lucros"
      ]
    },
    {
      "cell_type": "markdown",
      "id": "eb95ff02",
      "metadata": {
        "id": "eb95ff02"
      },
      "source": [
        "# Passo 10: Analisando lucros\n",
        "\n",
        "\n",
        "* Qual a média de lucros?\n",
        "* Qual a média de perdas?\n",
        "* Qual a % de operações vencedoras?\n",
        "* Qual expectativa matemática do modelo?\n",
        "* Qual retorno acumulado?\n",
        "* O retorno acumulado venceu o Buy and Hold na ação?"
      ]
    },
    {
      "cell_type": "code",
      "execution_count": 282,
      "id": "a96dfd10",
      "metadata": {
        "id": "a96dfd10",
        "colab": {
          "base_uri": "https://localhost:8080/"
        },
        "outputId": "58ab41f3-b3e3-418c-e98b-ee6c00cb71ab"
      },
      "outputs": [
        {
          "output_type": "execute_result",
          "data": {
            "text/plain": [
              "0.49800796812749004"
            ]
          },
          "metadata": {},
          "execution_count": 282
        }
      ],
      "source": [
        "operacoes_vencedoras = len(lucros[lucros > 0])/len(lucros)\n",
        "\n",
        "operacoes_vencedoras"
      ]
    },
    {
      "cell_type": "code",
      "execution_count": 283,
      "id": "e3bd365f",
      "metadata": {
        "id": "e3bd365f",
        "colab": {
          "base_uri": "https://localhost:8080/"
        },
        "outputId": "8b82bd33-53f1-412b-f4c6-ebad1da9cba6"
      },
      "outputs": [
        {
          "output_type": "execute_result",
          "data": {
            "text/plain": [
              "np.float64(8.660790706482627)"
            ]
          },
          "metadata": {},
          "execution_count": 283
        }
      ],
      "source": [
        "media_ganhos = np.mean(lucros[lucros > 0])\n",
        "\n",
        "media_ganhos * 100"
      ]
    },
    {
      "cell_type": "code",
      "execution_count": 285,
      "id": "7e484433",
      "metadata": {
        "id": "7e484433",
        "colab": {
          "base_uri": "https://localhost:8080/"
        },
        "outputId": "1069dc31-2270-4fce-caa8-0f86d761b7f9"
      },
      "outputs": [
        {
          "output_type": "execute_result",
          "data": {
            "text/plain": [
              "np.float64(0.059396004165896424)"
            ]
          },
          "metadata": {},
          "execution_count": 285
        }
      ],
      "source": [
        "media_perdas = abs(np.mean(lucros[lucros < 0]))\n",
        "\n",
        "media_perdas"
      ]
    },
    {
      "cell_type": "code",
      "execution_count": 286,
      "id": "08bc1f44",
      "metadata": {
        "id": "08bc1f44",
        "colab": {
          "base_uri": "https://localhost:8080/"
        },
        "outputId": "19c2d5ca-06ac-42ff-988b-69da3c1bf4d3"
      },
      "outputs": [
        {
          "output_type": "execute_result",
          "data": {
            "text/plain": [
              "np.float64(1.3315107004782205)"
            ]
          },
          "metadata": {},
          "execution_count": 286
        }
      ],
      "source": [
        "expectativa_matematica_modelo = (operacoes_vencedoras * media_ganhos) - ((1 - operacoes_vencedoras) * media_perdas)\n",
        "\n",
        "expectativa_matematica_modelo * 100"
      ]
    },
    {
      "cell_type": "code",
      "execution_count": 287,
      "id": "c95e4cb4",
      "metadata": {
        "id": "c95e4cb4",
        "colab": {
          "base_uri": "https://localhost:8080/"
        },
        "outputId": "43fcd395-9da7-4a92-8f9d-db66323f57a7"
      },
      "outputs": [
        {
          "output_type": "execute_result",
          "data": {
            "text/plain": [
              "array([ 10.34613817,  23.00379626,  18.42135765,  17.60573461,\n",
              "        27.83238052,  42.98921416,  28.6245024 ,  11.83119038,\n",
              "         0.93145129,   7.04209825,  15.94349842,  27.29282233,\n",
              "        46.69112911,  58.41380642,  59.17907901,  56.12966742,\n",
              "        60.03287292,  54.42518107,  48.08328594,  48.33964565,\n",
              "        57.37047043,  62.68654938,  76.57441532,  88.79225468,\n",
              "        97.39540744, 121.27222923, 161.02722597, 204.78435026,\n",
              "       276.65109057, 326.58383314, 290.33810006, 280.83044638,\n",
              "       261.57428747, 274.1867785 , 249.6079508 , 217.29917989,\n",
              "       197.23462538, 194.10587271, 192.14413445, 191.93133279,\n",
              "       200.95113082, 227.43476669, 269.90794197, 338.31562815,\n",
              "       375.82859344, 345.10368761, 328.92814297, 340.75334551,\n",
              "       350.72005955, 404.01859176, 473.46340834, 504.16961318,\n",
              "       601.77651625, 684.33213076, 580.63436719, 479.45219885,\n",
              "       418.01488955, 370.42681139, 338.50039407, 336.43453316,\n",
              "       311.98838436, 278.47625024, 268.77168872, 236.07127426,\n",
              "       208.33948302, 194.307793  , 193.86581992, 208.34467535,\n",
              "       257.96872663, 276.0875048 , 313.83898745, 358.90489941,\n",
              "       366.63461114, 403.17304726, 429.75581524, 469.076186  ,\n",
              "       432.09859538, 393.04369277, 360.1742653 , 320.25882614,\n",
              "       286.76910464, 230.52656522, 201.67889705, 179.02412053,\n",
              "       195.61727385, 222.48299959, 251.90649824, 301.41442919,\n",
              "       341.08046538, 361.54051716, 344.98056782, 340.34971301,\n",
              "       318.84343977, 307.24063834, 298.81103284, 285.08501375,\n",
              "       268.11676922, 248.78646228, 233.39813505, 235.86788358,\n",
              "       233.07898657, 227.80145388, 224.07032082, 217.78935187,\n",
              "       211.9394846 , 226.90633   , 233.08046447, 227.29501261,\n",
              "       238.7528524 , 241.6066128 , 246.9704336 , 248.98571033,\n",
              "       263.89210341, 249.55646814, 230.48681031, 211.8376885 ,\n",
              "       194.78285086, 180.54808197, 158.76759397, 132.66766053,\n",
              "       110.85974077, 108.98099435, 104.14141535,  94.58543713,\n",
              "        88.35322467,  84.09010558,  78.88986198,  78.50950187,\n",
              "        80.88545912,  72.00757311,  62.60779838,  51.82760981,\n",
              "        40.81822956,  34.50100699,  36.06151194,  46.34205719,\n",
              "        52.86107734,  68.99895556,  89.44394869, 114.1539882 ,\n",
              "       147.88718418, 183.94330747, 219.05641275, 187.13301191,\n",
              "       168.61385101, 141.16539374, 129.23547311, 120.97727051,\n",
              "       114.40546207, 104.22715686,  95.35851666,  90.101129  ,\n",
              "        89.50897219,  99.82998841,  98.21649212, 105.73894587,\n",
              "       121.57543497, 137.0477498 , 124.17071195, 104.80760808,\n",
              "        92.65388761,  76.47769054,  63.91666361,  62.04395274,\n",
              "        62.15468098,  60.26527069,  60.03699295,  59.01912306,\n",
              "        94.08233941, 108.44661954, 132.04660273, 123.40920357,\n",
              "        94.23496592,  88.21218476,  76.54794507,  76.96295925,\n",
              "        65.99620822,  48.59996184,  50.50065186,  40.13155401,\n",
              "        31.15417241,  37.75487149,  49.45848839,  49.89720661,\n",
              "        44.59111993,  42.12319522,  73.85098355,  32.6608206 ,\n",
              "         9.38702352,  -2.35505562, -16.77364205, -29.12128596,\n",
              "       -35.74413127, -32.4599059 , -33.54177024, -40.98846632,\n",
              "       -39.03535906, -34.1235135 , -36.52158338, -37.3568411 ,\n",
              "       -40.64877026, -42.38887134, -43.76273449, -42.55631667,\n",
              "       -40.9699969 , -42.33482531, -40.02524612, -34.96900707,\n",
              "       -28.52105973, -19.19980984,  -2.9522957 ,  18.28114372,\n",
              "        38.52741954,  41.52083191,  45.35656461,  50.20179919,\n",
              "        64.33622584,  15.9857547 , -17.65943452, -28.9997586 ,\n",
              "       -30.8709385 , -27.17619077, -27.9793993 ,  -5.92729575,\n",
              "        38.51717855,  69.58052261, 132.59560367, 131.88823101,\n",
              "       145.21017832, 159.50494831, 197.54899045, 188.67511082,\n",
              "       218.04465041, 253.3061152 , 275.38766883, 280.33923147,\n",
              "       287.57622335, 298.44182809, 323.50179311, 347.70860044,\n",
              "       368.34549373, 383.34276971, 423.73348746, 473.39303298,\n",
              "       490.57273183, 507.72155714, 542.76287359, 600.8831596 ,\n",
              "       687.46876059, 773.78191708, 809.17497428])"
            ]
          },
          "metadata": {},
          "execution_count": 287
        }
      ],
      "source": [
        "performance_acumulada = (np.cumprod((1 + lucros)) - 1)\n",
        "performance_acumulada*100"
      ]
    },
    {
      "cell_type": "code",
      "execution_count": 288,
      "id": "09212004",
      "metadata": {
        "id": "09212004",
        "colab": {
          "base_uri": "https://localhost:8080/",
          "height": 463
        },
        "outputId": "ed179958-613b-40aa-d4b2-8f8e8eebe789"
      },
      "outputs": [
        {
          "output_type": "execute_result",
          "data": {
            "text/plain": [
              "[<matplotlib.lines.Line2D at 0x7dd15c40f410>]"
            ]
          },
          "metadata": {},
          "execution_count": 288
        },
        {
          "output_type": "display_data",
          "data": {
            "text/plain": [
              "<Figure size 1200x500 with 1 Axes>"
            ],
            "image/png": "[encoded data removed]"
          },
          "metadata": {}
        }
      ],
      "source": [
        "plt.figure(figsize = (12, 5))\n",
        "plt.plot(data_compra, performance_acumulada)"
      ]
    },
    {
      "cell_type": "code",
      "execution_count": 291,
      "id": "be741de8",
      "metadata": {
        "id": "be741de8",
        "colab": {
          "base_uri": "https://localhost:8080/",
          "height": 147
        },
        "outputId": "3e934513-126f-4b87-a43d-5b0028dd1660"
      },
      "outputs": [
        {
          "output_type": "execute_result",
          "data": {
            "text/plain": [
              "Ticker\n",
              "PETR4.SA    2815.404814\n",
              "dtype: float64"
            ],
            "text/html": [
              "<div>\n",
              "<style scoped>\n",
              "    .dataframe tbody tr th:only-of-type {\n",
              "        vertical-align: middle;\n",
              "    }\n",
              "\n",
              "    .dataframe tbody tr th {\n",
              "        vertical-align: top;\n",
              "    }\n",
              "\n",
              "    .dataframe thead th {\n",
              "        text-align: right;\n",
              "    }\n",
              "</style>\n",
              "<table border=\"1\" class=\"dataframe\">\n",
              "  <thead>\n",
              "    <tr style=\"text-align: right;\">\n",
              "      <th></th>\n",
              "      <th>0</th>\n",
              "    </tr>\n",
              "    <tr>\n",
              "      <th>Ticker</th>\n",
              "      <th></th>\n",
              "    </tr>\n",
              "  </thead>\n",
              "  <tbody>\n",
              "    <tr>\n",
              "      <th>PETR4.SA</th>\n",
              "      <td>2815.404814</td>\n",
              "    </tr>\n",
              "  </tbody>\n",
              "</table>\n",
              "</div><br><label><b>dtype:</b> float64</label>"
            ]
          },
          "metadata": {},
          "execution_count": 291
        }
      ],
      "source": [
        "retorno_buy_and_hold = dados_ativo['Close'].iloc[-1]/dados_ativo['Close'].iloc[0] - 1\n",
        "\n",
        "retorno_buy_and_hold * 100"
      ]
    },
    {
      "cell_type": "code",
      "execution_count": null,
      "id": "b5e17b7e",
      "metadata": {
        "id": "b5e17b7e"
      },
      "outputs": [],
      "source": []
    },
    {
      "cell_type": "code",
      "execution_count": null,
      "id": "4b3649e1",
      "metadata": {
        "id": "4b3649e1"
      },
      "outputs": [],
      "source": []
    },
    {
      "cell_type": "code",
      "execution_count": null,
      "id": "e1e2709c",
      "metadata": {
        "id": "e1e2709c"
      },
      "outputs": [],
      "source": []
    },
    {
      "cell_type": "code",
      "execution_count": null,
      "id": "d48e13cb",
      "metadata": {
        "id": "d48e13cb"
      },
      "outputs": [],
      "source": []
    },
    {
      "cell_type": "code",
      "execution_count": null,
      "id": "f23dea98",
      "metadata": {
        "id": "f23dea98"
      },
      "outputs": [],
      "source": []
    },
    {
      "cell_type": "code",
      "execution_count": null,
      "id": "d2dcd03f",
      "metadata": {
        "id": "d2dcd03f"
      },
      "outputs": [],
      "source": []
    },
    {
      "cell_type": "code",
      "execution_count": null,
      "id": "c74c485d",
      "metadata": {
        "id": "c74c485d"
      },
      "outputs": [],
      "source": []
    },
    {
      "cell_type": "code",
      "execution_count": null,
      "id": "6da626f4",
      "metadata": {
        "id": "6da626f4"
      },
      "outputs": [],
      "source": []
    },
    {
      "cell_type": "code",
      "execution_count": null,
      "id": "63c25d5d",
      "metadata": {
        "id": "63c25d5d"
      },
      "outputs": [],
      "source": []
    },
    {
      "cell_type": "code",
      "execution_count": null,
      "id": "b245759d",
      "metadata": {
        "id": "b245759d"
      },
      "outputs": [],
      "source": []
    }
  ],
  "metadata": {
    "kernelspec": {
      "display_name": "Python 3 (ipykernel)",
      "language": "python",
      "name": "python3"
    },
    "language_info": {
      "codemirror_mode": {
        "name": "ipython",
        "version": 3
      },
      "file_extension": ".py",
      "mimetype": "text/x-python",
      "name": "python",
      "nbconvert_exporter": "python",
      "pygments_lexer": "ipython3",
      "version": "3.9.12"
    },
    "colab": {
      "provenance": [],
      "include_colab_link": true
    }
  },
  "nbformat": 4,
  "nbformat_minor": 5
}